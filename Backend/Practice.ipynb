{
 "cells": [
  {
   "cell_type": "code",
   "execution_count": 1,
   "metadata": {},
   "outputs": [],
   "source": [
    "import json\n",
    "import pandas"
   ]
  },
  {
   "cell_type": "code",
   "execution_count": 3,
   "metadata": {},
   "outputs": [
    {
     "name": "stdout",
     "output_type": "stream",
     "text": [
      "'/resume-builder-web-application/Temp/temp1.png',\n",
      "'/resume-builder-web-application/Temp/temp2.png',\n",
      "'/resume-builder-web-application/Temp/temp3.png',\n",
      "'/resume-builder-web-application/Temp/temp4.png',\n",
      "'/resume-builder-web-application/Temp/temp5.png',\n",
      "'/resume-builder-web-application/Temp/temp6.png',\n",
      "'/resume-builder-web-application/Temp/temp7.png',\n"
     ]
    }
   ],
   "source": [
    "for i in range (1,8):\n",
    "   print(f\"'/resume-builder-web-application/Temp/temp{i}.png',\")"
   ]
  },
  {
   "cell_type": "code",
   "execution_count": 16,
   "metadata": {},
   "outputs": [],
   "source": [
    "def removespace(text):\n",
    "   \"\"\"Remove the spaces from a single sentences. Example: \" Hello\" -> \"Hello\" \"\"\"\n",
    "   sp=text.split(' ')\n",
    "   longest=''\n",
    "   long=0\n",
    "   for _ in sp:\n",
    "      if len(_)>long:\n",
    "         long=len(_)\n",
    "         longest=_\n",
    "\n",
    "   return longest"
   ]
  },
  {
   "cell_type": "code",
   "execution_count": 20,
   "metadata": {},
   "outputs": [
    {
     "data": {
      "text/plain": [
       "'PowerBI<br>SimpliLearn<br>IBM SkillsBuild'"
      ]
     },
     "execution_count": 20,
     "metadata": {},
     "output_type": "execute_result"
    }
   ],
   "source": [
    "f\"{'<br>'.join((cer['providerName'] for cer in jsonData['certificates']))}\""
   ]
  },
  {
   "cell_type": "code",
   "execution_count": null,
   "metadata": {},
   "outputs": [],
   "source": []
  }
 ],
 "metadata": {
  "kernelspec": {
   "display_name": "Python 3",
   "language": "python",
   "name": "python3"
  },
  "language_info": {
   "codemirror_mode": {
    "name": "ipython",
    "version": 3
   },
   "file_extension": ".py",
   "mimetype": "text/x-python",
   "name": "python",
   "nbconvert_exporter": "python",
   "pygments_lexer": "ipython3",
   "version": "3.11.9"
  }
 },
 "nbformat": 4,
 "nbformat_minor": 2
}
