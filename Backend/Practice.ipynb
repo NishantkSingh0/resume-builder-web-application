{
 "cells": [
  {
   "cell_type": "code",
   "execution_count": null,
   "metadata": {},
   "outputs": [],
   "source": [
    "import json\n",
    "import pandas\n",
    "import Backend.GenerateTemplates as tp"
   ]
  },
  {
   "cell_type": "code",
   "execution_count": 4,
   "metadata": {},
   "outputs": [],
   "source": [
    "def removespace(text):\n",
    "   \"\"\"Remove the spaces from a single sentences. Example: \" Hello\" -> \"Hello\" \"\"\"\n",
    "   sp=text.split(' ')\n",
    "   longest=''\n",
    "   long=0\n",
    "   for _ in sp:\n",
    "      if len(_)>long:\n",
    "         long=len(_)\n",
    "         longest=_\n",
    "\n",
    "   return longest"
   ]
  },
  {
   "cell_type": "code",
   "execution_count": 2,
   "metadata": {},
   "outputs": [],
   "source": [
    "with open (r'resume_data.json','r') as f:\n",
    "   jsonData=json.load(f)"
   ]
  },
  {
   "cell_type": "code",
   "execution_count": 6,
   "metadata": {},
   "outputs": [],
   "source": [
    "desc=\"\"\"A passionated AI developer with extensive experience in various machine learning models, Primarily i focus on building models from scratch rather than relying heavily on fine-tuning pre-trained models. All my projects, showcasing my skills and contributions, are available on GitHub & Kaggle.\"\"\"\n",
    "resume=tp.T4(jsonData,desc)\n",
    "\n",
    "with open ('Generated_resume_T4.html','w') as f:\n",
    "   f.write(resume)"
   ]
  },
  {
   "cell_type": "code",
   "execution_count": 7,
   "metadata": {},
   "outputs": [],
   "source": [
    "skills=jsonData['skills']['hardSkills'].split(',')\n",
    "eachColumn=len(skills)//3\n",
    "column1=eachColumn\n",
    "column2=eachColumn\n",
    "column3=eachColumn\n",
    "if eachColumn%3==1:\n",
    "   column1+=1\n",
    "elif eachColumn%3==2:\n",
    "   column1+=1\n",
    "   column2+=1"
   ]
  },
  {
   "cell_type": "code",
   "execution_count": 11,
   "metadata": {},
   "outputs": [
    {
     "name": "stdout",
     "output_type": "stream",
     "text": [
      "<ul>\n",
      "   <li>TensorFlow</li><br><li> PyTorch</li><br><li> Scikit-learn</li>\n",
      "</ul>\n",
      "<ul>\n",
      "   <li> Keras</li><br><li> Hugging Face</li><br><li> C/C++</li>\n",
      "</ul>\n",
      "<ul>\n",
      "   <li> Java</li><br><li> JavaScript</li><br><li> React</li>\n",
      "</ul>\n"
     ]
    }
   ],
   "source": [
    "print(f\"\"\"<ul>\n",
    "   {'<br>'.join((\"<li>\"+skills[skl]+\"</li>\" for skl in range(column1)))}\n",
    "</ul>\n",
    "<ul>\n",
    "   {'<br>'.join((\"<li>\"+skills[skl]+\"</li>\" for skl in range(column1,column2+column1)))}\n",
    "</ul>\n",
    "<ul>\n",
    "   {'<br>'.join((\"<li>\"+skills[skl]+\"</li>\" for skl in range(column2+column1,column3+column2+column1)))}\n",
    "</ul>\"\"\")"
   ]
  },
  {
   "cell_type": "code",
   "execution_count": null,
   "metadata": {},
   "outputs": [],
   "source": []
  }
 ],
 "metadata": {
  "kernelspec": {
   "display_name": "Python 3",
   "language": "python",
   "name": "python3"
  },
  "language_info": {
   "codemirror_mode": {
    "name": "ipython",
    "version": 3
   },
   "file_extension": ".py",
   "mimetype": "text/x-python",
   "name": "python",
   "nbconvert_exporter": "python",
   "pygments_lexer": "ipython3",
   "version": "3.11.9"
  }
 },
 "nbformat": 4,
 "nbformat_minor": 2
}
